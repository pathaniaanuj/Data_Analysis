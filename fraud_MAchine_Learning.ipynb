{
 "cells": [
  {
   "cell_type": "code",
   "execution_count": 1,
   "id": "886729ef",
   "metadata": {},
   "outputs": [],
   "source": [
    "import numpy as nm\n",
    "import pandas as pd"
   ]
  },
  {
   "cell_type": "code",
   "execution_count": 2,
   "id": "18aefe1d",
   "metadata": {},
   "outputs": [],
   "source": [
    "import matplotlib.pyplot as plt\n",
    "import seaborn as sns"
   ]
  },
  {
   "cell_type": "code",
   "execution_count": 3,
   "id": "4a108475",
   "metadata": {},
   "outputs": [],
   "source": [
    "#Load Dataset"
   ]
  },
  {
   "cell_type": "code",
   "execution_count": 4,
   "id": "681addf7",
   "metadata": {},
   "outputs": [],
   "source": [
    "fraud = pd.read_csv(\"C:\\\\Users\\\\anujr\\\\OneDrive\\\\Documents\\\\data analyst\\\\raw data\\\\fraud_dataset.csv\")"
   ]
  },
  {
   "cell_type": "code",
   "execution_count": 5,
   "id": "befe228d",
   "metadata": {},
   "outputs": [],
   "source": [
    "pd.set_option('display.max_rows',None)\n"
   ]
  },
  {
   "cell_type": "code",
   "execution_count": 6,
   "id": "8e6ada58",
   "metadata": {},
   "outputs": [
    {
     "data": {
      "text/html": [
       "<div>\n",
       "<style scoped>\n",
       "    .dataframe tbody tr th:only-of-type {\n",
       "        vertical-align: middle;\n",
       "    }\n",
       "\n",
       "    .dataframe tbody tr th {\n",
       "        vertical-align: top;\n",
       "    }\n",
       "\n",
       "    .dataframe thead th {\n",
       "        text-align: right;\n",
       "    }\n",
       "</style>\n",
       "<table border=\"1\" class=\"dataframe\">\n",
       "  <thead>\n",
       "    <tr style=\"text-align: right;\">\n",
       "      <th></th>\n",
       "      <th>transaction_id</th>\n",
       "      <th>transaction_amount</th>\n",
       "      <th>location</th>\n",
       "      <th>merchant</th>\n",
       "      <th>age</th>\n",
       "      <th>gender</th>\n",
       "      <th>fraud_label</th>\n",
       "    </tr>\n",
       "  </thead>\n",
       "  <tbody>\n",
       "    <tr>\n",
       "      <th>0</th>\n",
       "      <td>1</td>\n",
       "      <td>1000.0</td>\n",
       "      <td>New York</td>\n",
       "      <td>ABC Corp</td>\n",
       "      <td>35</td>\n",
       "      <td>M</td>\n",
       "      <td>0</td>\n",
       "    </tr>\n",
       "    <tr>\n",
       "      <th>1</th>\n",
       "      <td>2</td>\n",
       "      <td>500.0</td>\n",
       "      <td>Chicago</td>\n",
       "      <td>XYZ Inc</td>\n",
       "      <td>45</td>\n",
       "      <td>F</td>\n",
       "      <td>0</td>\n",
       "    </tr>\n",
       "    <tr>\n",
       "      <th>2</th>\n",
       "      <td>3</td>\n",
       "      <td>2000.0</td>\n",
       "      <td>Los Angeles</td>\n",
       "      <td>ABC Corp</td>\n",
       "      <td>28</td>\n",
       "      <td>M</td>\n",
       "      <td>1</td>\n",
       "    </tr>\n",
       "    <tr>\n",
       "      <th>3</th>\n",
       "      <td>4</td>\n",
       "      <td>1500.0</td>\n",
       "      <td>San Francisco</td>\n",
       "      <td>XYZ Inc</td>\n",
       "      <td>30</td>\n",
       "      <td>F</td>\n",
       "      <td>0</td>\n",
       "    </tr>\n",
       "    <tr>\n",
       "      <th>4</th>\n",
       "      <td>5</td>\n",
       "      <td>800.0</td>\n",
       "      <td>Chicago</td>\n",
       "      <td>ABC Corp</td>\n",
       "      <td>50</td>\n",
       "      <td>F</td>\n",
       "      <td>0</td>\n",
       "    </tr>\n",
       "  </tbody>\n",
       "</table>\n",
       "</div>"
      ],
      "text/plain": [
       "   transaction_id  transaction_amount       location  merchant  age gender  \\\n",
       "0               1              1000.0       New York  ABC Corp   35      M   \n",
       "1               2               500.0        Chicago   XYZ Inc   45      F   \n",
       "2               3              2000.0    Los Angeles  ABC Corp   28      M   \n",
       "3               4              1500.0  San Francisco   XYZ Inc   30      F   \n",
       "4               5               800.0        Chicago  ABC Corp   50      F   \n",
       "\n",
       "   fraud_label  \n",
       "0            0  \n",
       "1            0  \n",
       "2            1  \n",
       "3            0  \n",
       "4            0  "
      ]
     },
     "execution_count": 6,
     "metadata": {},
     "output_type": "execute_result"
    }
   ],
   "source": [
    "fraud.head()"
   ]
  },
  {
   "cell_type": "code",
   "execution_count": 7,
   "id": "d490d77d",
   "metadata": {},
   "outputs": [
    {
     "data": {
      "text/plain": [
       "(86, 7)"
      ]
     },
     "execution_count": 7,
     "metadata": {},
     "output_type": "execute_result"
    }
   ],
   "source": [
    "fraud.shape # this dataset include 86 rows and 7 columns"
   ]
  },
  {
   "cell_type": "code",
   "execution_count": 8,
   "id": "c73f9504",
   "metadata": {},
   "outputs": [
    {
     "name": "stdout",
     "output_type": "stream",
     "text": [
      "<class 'pandas.core.frame.DataFrame'>\n",
      "RangeIndex: 86 entries, 0 to 85\n",
      "Data columns (total 7 columns):\n",
      " #   Column              Non-Null Count  Dtype  \n",
      "---  ------              --------------  -----  \n",
      " 0   transaction_id      86 non-null     int64  \n",
      " 1   transaction_amount  86 non-null     float64\n",
      " 2   location            86 non-null     object \n",
      " 3   merchant            86 non-null     object \n",
      " 4   age                 86 non-null     int64  \n",
      " 5   gender              86 non-null     object \n",
      " 6   fraud_label         86 non-null     int64  \n",
      "dtypes: float64(1), int64(3), object(3)\n",
      "memory usage: 4.8+ KB\n"
     ]
    }
   ],
   "source": [
    "fraud.info() # dataset include 3 variables having int and object datatype"
   ]
  },
  {
   "cell_type": "code",
   "execution_count": 9,
   "id": "05ef0a02",
   "metadata": {},
   "outputs": [
    {
     "name": "stdout",
     "output_type": "stream",
     "text": [
      "1     1\n",
      "55    1\n",
      "63    1\n",
      "62    1\n",
      "61    1\n",
      "60    1\n",
      "59    1\n",
      "58    1\n",
      "57    1\n",
      "56    1\n",
      "54    1\n",
      "65    1\n",
      "53    1\n",
      "52    1\n",
      "51    1\n",
      "50    1\n",
      "49    1\n",
      "48    1\n",
      "47    1\n",
      "46    1\n",
      "64    1\n",
      "66    1\n",
      "2     1\n",
      "77    1\n",
      "85    1\n",
      "84    1\n",
      "83    1\n",
      "82    1\n",
      "81    1\n",
      "80    1\n",
      "79    1\n",
      "78    1\n",
      "76    1\n",
      "67    1\n",
      "75    1\n",
      "74    1\n",
      "73    1\n",
      "72    1\n",
      "71    1\n",
      "70    1\n",
      "69    1\n",
      "68    1\n",
      "45    1\n",
      "44    1\n",
      "43    1\n",
      "12    1\n",
      "20    1\n",
      "19    1\n",
      "18    1\n",
      "17    1\n",
      "16    1\n",
      "15    1\n",
      "14    1\n",
      "13    1\n",
      "11    1\n",
      "42    1\n",
      "10    1\n",
      "9     1\n",
      "8     1\n",
      "7     1\n",
      "6     1\n",
      "5     1\n",
      "4     1\n",
      "3     1\n",
      "21    1\n",
      "22    1\n",
      "23    1\n",
      "24    1\n",
      "41    1\n",
      "40    1\n",
      "39    1\n",
      "38    1\n",
      "37    1\n",
      "36    1\n",
      "35    1\n",
      "34    1\n",
      "33    1\n",
      "32    1\n",
      "31    1\n",
      "30    1\n",
      "29    1\n",
      "28    1\n",
      "27    1\n",
      "26    1\n",
      "25    1\n",
      "86    1\n",
      "Name: transaction_id, dtype: int64\n",
      "2000.0    7\n",
      "900.0     6\n",
      "950.0     5\n",
      "800.0     5\n",
      "2800.0    4\n",
      "1000.0    3\n",
      "3200.0    3\n",
      "1100.0    3\n",
      "1050.0    3\n",
      "750.0     3\n",
      "1800.0    3\n",
      "3000.0    3\n",
      "1500.0    3\n",
      "1250.0    3\n",
      "1350.0    2\n",
      "2400.0    2\n",
      "920.0     2\n",
      "850.0     2\n",
      "1300.0    2\n",
      "2100.0    2\n",
      "1700.0    2\n",
      "1400.0    2\n",
      "2300.0    2\n",
      "4000.0    2\n",
      "1900.0    2\n",
      "1600.0    2\n",
      "2200.0    2\n",
      "1200.0    2\n",
      "500.0     1\n",
      "2500.0    1\n",
      "1125.0    1\n",
      "1750.0    1\n",
      "Name: transaction_amount, dtype: int64\n",
      "New York         22\n",
      "Chicago          22\n",
      "Los Angeles      21\n",
      "San Francisco    21\n",
      "Name: location, dtype: int64\n",
      "ABC Corp    43\n",
      "XYZ Inc     43\n",
      "Name: merchant, dtype: int64\n",
      "35    4\n",
      "45    4\n",
      "30    4\n",
      "37    4\n",
      "48    4\n",
      "29    4\n",
      "36    4\n",
      "46    3\n",
      "39    3\n",
      "54    3\n",
      "41    3\n",
      "27    3\n",
      "49    3\n",
      "31    3\n",
      "47    3\n",
      "26    3\n",
      "51    3\n",
      "33    3\n",
      "42    3\n",
      "50    3\n",
      "28    3\n",
      "56    3\n",
      "32    2\n",
      "52    2\n",
      "38    2\n",
      "44    2\n",
      "43    2\n",
      "34    1\n",
      "40    1\n",
      "55    1\n",
      "Name: age, dtype: int64\n",
      "M    43\n",
      "F    43\n",
      "Name: gender, dtype: int64\n",
      "0    70\n",
      "1    16\n",
      "Name: fraud_label, dtype: int64\n"
     ]
    }
   ],
   "source": [
    " for  var in fraud.columns:  \n",
    "    print(fraud[var].value_counts()) # checking unique value in each columns"
   ]
  },
  {
   "cell_type": "code",
   "execution_count": 10,
   "id": "25476c71",
   "metadata": {},
   "outputs": [
    {
     "data": {
      "text/html": [
       "<div>\n",
       "<style scoped>\n",
       "    .dataframe tbody tr th:only-of-type {\n",
       "        vertical-align: middle;\n",
       "    }\n",
       "\n",
       "    .dataframe tbody tr th {\n",
       "        vertical-align: top;\n",
       "    }\n",
       "\n",
       "    .dataframe thead th {\n",
       "        text-align: right;\n",
       "    }\n",
       "</style>\n",
       "<table border=\"1\" class=\"dataframe\">\n",
       "  <thead>\n",
       "    <tr style=\"text-align: right;\">\n",
       "      <th></th>\n",
       "      <th>transaction_id</th>\n",
       "      <th>transaction_amount</th>\n",
       "      <th>age</th>\n",
       "      <th>fraud_label</th>\n",
       "    </tr>\n",
       "  </thead>\n",
       "  <tbody>\n",
       "    <tr>\n",
       "      <th>count</th>\n",
       "      <td>86.000000</td>\n",
       "      <td>86.000000</td>\n",
       "      <td>86.000000</td>\n",
       "      <td>86.000000</td>\n",
       "    </tr>\n",
       "    <tr>\n",
       "      <th>mean</th>\n",
       "      <td>43.500000</td>\n",
       "      <td>1623.430233</td>\n",
       "      <td>40.081395</td>\n",
       "      <td>0.186047</td>\n",
       "    </tr>\n",
       "    <tr>\n",
       "      <th>std</th>\n",
       "      <td>24.969982</td>\n",
       "      <td>799.196016</td>\n",
       "      <td>8.829383</td>\n",
       "      <td>0.391427</td>\n",
       "    </tr>\n",
       "    <tr>\n",
       "      <th>min</th>\n",
       "      <td>1.000000</td>\n",
       "      <td>500.000000</td>\n",
       "      <td>26.000000</td>\n",
       "      <td>0.000000</td>\n",
       "    </tr>\n",
       "    <tr>\n",
       "      <th>25%</th>\n",
       "      <td>22.250000</td>\n",
       "      <td>950.000000</td>\n",
       "      <td>32.250000</td>\n",
       "      <td>0.000000</td>\n",
       "    </tr>\n",
       "    <tr>\n",
       "      <th>50%</th>\n",
       "      <td>43.500000</td>\n",
       "      <td>1375.000000</td>\n",
       "      <td>39.500000</td>\n",
       "      <td>0.000000</td>\n",
       "    </tr>\n",
       "    <tr>\n",
       "      <th>75%</th>\n",
       "      <td>64.750000</td>\n",
       "      <td>2000.000000</td>\n",
       "      <td>47.750000</td>\n",
       "      <td>0.000000</td>\n",
       "    </tr>\n",
       "    <tr>\n",
       "      <th>max</th>\n",
       "      <td>86.000000</td>\n",
       "      <td>4000.000000</td>\n",
       "      <td>56.000000</td>\n",
       "      <td>1.000000</td>\n",
       "    </tr>\n",
       "  </tbody>\n",
       "</table>\n",
       "</div>"
      ],
      "text/plain": [
       "       transaction_id  transaction_amount        age  fraud_label\n",
       "count       86.000000           86.000000  86.000000    86.000000\n",
       "mean        43.500000         1623.430233  40.081395     0.186047\n",
       "std         24.969982          799.196016   8.829383     0.391427\n",
       "min          1.000000          500.000000  26.000000     0.000000\n",
       "25%         22.250000          950.000000  32.250000     0.000000\n",
       "50%         43.500000         1375.000000  39.500000     0.000000\n",
       "75%         64.750000         2000.000000  47.750000     0.000000\n",
       "max         86.000000         4000.000000  56.000000     1.000000"
      ]
     },
     "execution_count": 10,
     "metadata": {},
     "output_type": "execute_result"
    }
   ],
   "source": [
    "fraud.describe()"
   ]
  },
  {
   "cell_type": "code",
   "execution_count": 11,
   "id": "038ed2aa",
   "metadata": {},
   "outputs": [
    {
     "data": {
      "text/plain": [
       "transaction_id        0\n",
       "transaction_amount    0\n",
       "location              0\n",
       "merchant              0\n",
       "age                   0\n",
       "gender                0\n",
       "fraud_label           0\n",
       "dtype: int64"
      ]
     },
     "execution_count": 11,
     "metadata": {},
     "output_type": "execute_result"
    }
   ],
   "source": [
    "fraud.isnull().sum()"
   ]
  },
  {
   "cell_type": "code",
   "execution_count": 12,
   "id": "cb58a247",
   "metadata": {},
   "outputs": [
    {
     "data": {
      "text/plain": [
       "0"
      ]
     },
     "execution_count": 12,
     "metadata": {},
     "output_type": "execute_result"
    }
   ],
   "source": [
    "fraud.duplicated().sum()"
   ]
  },
  {
   "cell_type": "code",
   "execution_count": 13,
   "id": "af5112e2",
   "metadata": {},
   "outputs": [],
   "source": [
    "# there is no null and duplicate data...so our data is cleaned."
   ]
  },
  {
   "cell_type": "code",
   "execution_count": 14,
   "id": "ad472476",
   "metadata": {},
   "outputs": [],
   "source": [
    "#Data Analysis"
   ]
  },
  {
   "cell_type": "code",
   "execution_count": 15,
   "id": "8e08a240",
   "metadata": {},
   "outputs": [
    {
     "data": {
      "text/plain": [
       "Index(['transaction_id', 'transaction_amount', 'location', 'merchant', 'age',\n",
       "       'gender', 'fraud_label'],\n",
       "      dtype='object')"
      ]
     },
     "execution_count": 15,
     "metadata": {},
     "output_type": "execute_result"
    }
   ],
   "source": [
    "fraud.keys()"
   ]
  },
  {
   "cell_type": "code",
   "execution_count": 16,
   "id": "2429811a",
   "metadata": {},
   "outputs": [],
   "source": [
    "graph=fraud[['transaction_amount','location', 'merchant', 'age','gender', 'fraud_label']]"
   ]
  },
  {
   "cell_type": "code",
   "execution_count": 17,
   "id": "bbd4c6ef",
   "metadata": {},
   "outputs": [
    {
     "data": {
      "text/html": [
       "<div>\n",
       "<style scoped>\n",
       "    .dataframe tbody tr th:only-of-type {\n",
       "        vertical-align: middle;\n",
       "    }\n",
       "\n",
       "    .dataframe tbody tr th {\n",
       "        vertical-align: top;\n",
       "    }\n",
       "\n",
       "    .dataframe thead th {\n",
       "        text-align: right;\n",
       "    }\n",
       "</style>\n",
       "<table border=\"1\" class=\"dataframe\">\n",
       "  <thead>\n",
       "    <tr style=\"text-align: right;\">\n",
       "      <th></th>\n",
       "      <th>transaction_amount</th>\n",
       "      <th>location</th>\n",
       "      <th>merchant</th>\n",
       "      <th>age</th>\n",
       "      <th>gender</th>\n",
       "      <th>fraud_label</th>\n",
       "    </tr>\n",
       "  </thead>\n",
       "  <tbody>\n",
       "    <tr>\n",
       "      <th>0</th>\n",
       "      <td>1000.0</td>\n",
       "      <td>New York</td>\n",
       "      <td>ABC Corp</td>\n",
       "      <td>35</td>\n",
       "      <td>M</td>\n",
       "      <td>0</td>\n",
       "    </tr>\n",
       "    <tr>\n",
       "      <th>1</th>\n",
       "      <td>500.0</td>\n",
       "      <td>Chicago</td>\n",
       "      <td>XYZ Inc</td>\n",
       "      <td>45</td>\n",
       "      <td>F</td>\n",
       "      <td>0</td>\n",
       "    </tr>\n",
       "    <tr>\n",
       "      <th>2</th>\n",
       "      <td>2000.0</td>\n",
       "      <td>Los Angeles</td>\n",
       "      <td>ABC Corp</td>\n",
       "      <td>28</td>\n",
       "      <td>M</td>\n",
       "      <td>1</td>\n",
       "    </tr>\n",
       "    <tr>\n",
       "      <th>3</th>\n",
       "      <td>1500.0</td>\n",
       "      <td>San Francisco</td>\n",
       "      <td>XYZ Inc</td>\n",
       "      <td>30</td>\n",
       "      <td>F</td>\n",
       "      <td>0</td>\n",
       "    </tr>\n",
       "    <tr>\n",
       "      <th>4</th>\n",
       "      <td>800.0</td>\n",
       "      <td>Chicago</td>\n",
       "      <td>ABC Corp</td>\n",
       "      <td>50</td>\n",
       "      <td>F</td>\n",
       "      <td>0</td>\n",
       "    </tr>\n",
       "  </tbody>\n",
       "</table>\n",
       "</div>"
      ],
      "text/plain": [
       "   transaction_amount       location  merchant  age gender  fraud_label\n",
       "0              1000.0       New York  ABC Corp   35      M            0\n",
       "1               500.0        Chicago   XYZ Inc   45      F            0\n",
       "2              2000.0    Los Angeles  ABC Corp   28      M            1\n",
       "3              1500.0  San Francisco   XYZ Inc   30      F            0\n",
       "4               800.0        Chicago  ABC Corp   50      F            0"
      ]
     },
     "execution_count": 17,
     "metadata": {},
     "output_type": "execute_result"
    }
   ],
   "source": [
    "graph.head()"
   ]
  },
  {
   "cell_type": "code",
   "execution_count": 18,
   "id": "71c4dedb",
   "metadata": {},
   "outputs": [],
   "source": [
    "amount_location=fraud.groupby([\"location\"],as_index=False)['transaction_amount'].sum().sort_values(by='transaction_amount',ascending=False)"
   ]
  },
  {
   "cell_type": "code",
   "execution_count": 19,
   "id": "8a172a47",
   "metadata": {},
   "outputs": [
    {
     "data": {
      "text/html": [
       "<div>\n",
       "<style scoped>\n",
       "    .dataframe tbody tr th:only-of-type {\n",
       "        vertical-align: middle;\n",
       "    }\n",
       "\n",
       "    .dataframe tbody tr th {\n",
       "        vertical-align: top;\n",
       "    }\n",
       "\n",
       "    .dataframe thead th {\n",
       "        text-align: right;\n",
       "    }\n",
       "</style>\n",
       "<table border=\"1\" class=\"dataframe\">\n",
       "  <thead>\n",
       "    <tr style=\"text-align: right;\">\n",
       "      <th></th>\n",
       "      <th>location</th>\n",
       "      <th>transaction_amount</th>\n",
       "    </tr>\n",
       "  </thead>\n",
       "  <tbody>\n",
       "    <tr>\n",
       "      <th>0</th>\n",
       "      <td>Chicago</td>\n",
       "      <td>42250.0</td>\n",
       "    </tr>\n",
       "    <tr>\n",
       "      <th>3</th>\n",
       "      <td>San Francisco</td>\n",
       "      <td>38275.0</td>\n",
       "    </tr>\n",
       "    <tr>\n",
       "      <th>1</th>\n",
       "      <td>Los Angeles</td>\n",
       "      <td>36750.0</td>\n",
       "    </tr>\n",
       "    <tr>\n",
       "      <th>2</th>\n",
       "      <td>New York</td>\n",
       "      <td>22340.0</td>\n",
       "    </tr>\n",
       "  </tbody>\n",
       "</table>\n",
       "</div>"
      ],
      "text/plain": [
       "        location  transaction_amount\n",
       "0        Chicago             42250.0\n",
       "3  San Francisco             38275.0\n",
       "1    Los Angeles             36750.0\n",
       "2       New York             22340.0"
      ]
     },
     "execution_count": 19,
     "metadata": {},
     "output_type": "execute_result"
    }
   ],
   "source": [
    "amount_location"
   ]
  },
  {
   "cell_type": "code",
   "execution_count": 20,
   "id": "aad47635",
   "metadata": {},
   "outputs": [
    {
     "data": {
      "text/plain": [
       "<Axes: xlabel='location', ylabel='transaction_amount'>"
      ]
     },
     "execution_count": 20,
     "metadata": {},
     "output_type": "execute_result"
    },
    {
     "data": {
      "image/png": "[encoded data removed]",
      "text/plain": [
       "<Figure size 640x480 with 1 Axes>"
      ]
     },
     "metadata": {},
     "output_type": "display_data"
    }
   ],
   "source": [
    "sns.barplot(x='location',y='transaction_amount',data=amount_location)"
   ]
  },
  {
   "cell_type": "code",
   "execution_count": 21,
   "id": "5c34483b",
   "metadata": {},
   "outputs": [],
   "source": [
    "amount_merchant=fraud.groupby([\"merchant\"],as_index=False)['transaction_amount'].sum().sort_values(by='transaction_amount',ascending=False)"
   ]
  },
  {
   "cell_type": "code",
   "execution_count": 22,
   "id": "030ce175",
   "metadata": {},
   "outputs": [
    {
     "data": {
      "text/html": [
       "<div>\n",
       "<style scoped>\n",
       "    .dataframe tbody tr th:only-of-type {\n",
       "        vertical-align: middle;\n",
       "    }\n",
       "\n",
       "    .dataframe tbody tr th {\n",
       "        vertical-align: top;\n",
       "    }\n",
       "\n",
       "    .dataframe thead th {\n",
       "        text-align: right;\n",
       "    }\n",
       "</style>\n",
       "<table border=\"1\" class=\"dataframe\">\n",
       "  <thead>\n",
       "    <tr style=\"text-align: right;\">\n",
       "      <th></th>\n",
       "      <th>merchant</th>\n",
       "      <th>transaction_amount</th>\n",
       "    </tr>\n",
       "  </thead>\n",
       "  <tbody>\n",
       "    <tr>\n",
       "      <th>1</th>\n",
       "      <td>XYZ Inc</td>\n",
       "      <td>80000.0</td>\n",
       "    </tr>\n",
       "    <tr>\n",
       "      <th>0</th>\n",
       "      <td>ABC Corp</td>\n",
       "      <td>59615.0</td>\n",
       "    </tr>\n",
       "  </tbody>\n",
       "</table>\n",
       "</div>"
      ],
      "text/plain": [
       "   merchant  transaction_amount\n",
       "1   XYZ Inc             80000.0\n",
       "0  ABC Corp             59615.0"
      ]
     },
     "execution_count": 22,
     "metadata": {},
     "output_type": "execute_result"
    }
   ],
   "source": [
    "amount_merchant"
   ]
  },
  {
   "cell_type": "code",
   "execution_count": 23,
   "id": "f99e8d91",
   "metadata": {},
   "outputs": [
    {
     "data": {
      "text/plain": [
       "<Axes: xlabel='merchant', ylabel='transaction_amount'>"
      ]
     },
     "execution_count": 23,
     "metadata": {},
     "output_type": "execute_result"
    },
    {
     "data": {
      "image/png": "[encoded data removed]",
      "text/plain": [
       "<Figure size 640x480 with 1 Axes>"
      ]
     },
     "metadata": {},
     "output_type": "display_data"
    }
   ],
   "source": [
    "sns.barplot(x='merchant',y='transaction_amount',data=amount_merchant)"
   ]
  },
  {
   "cell_type": "code",
   "execution_count": 24,
   "id": "8d48073b",
   "metadata": {},
   "outputs": [],
   "source": [
    "gender=fraud.groupby([\"gender\"],as_index=False)['transaction_amount'].sum().sort_values(by='transaction_amount',ascending=False)"
   ]
  },
  {
   "cell_type": "code",
   "execution_count": 25,
   "id": "625bd99c",
   "metadata": {},
   "outputs": [
    {
     "data": {
      "text/html": [
       "<div>\n",
       "<style scoped>\n",
       "    .dataframe tbody tr th:only-of-type {\n",
       "        vertical-align: middle;\n",
       "    }\n",
       "\n",
       "    .dataframe tbody tr th {\n",
       "        vertical-align: top;\n",
       "    }\n",
       "\n",
       "    .dataframe thead th {\n",
       "        text-align: right;\n",
       "    }\n",
       "</style>\n",
       "<table border=\"1\" class=\"dataframe\">\n",
       "  <thead>\n",
       "    <tr style=\"text-align: right;\">\n",
       "      <th></th>\n",
       "      <th>gender</th>\n",
       "      <th>transaction_amount</th>\n",
       "    </tr>\n",
       "  </thead>\n",
       "  <tbody>\n",
       "    <tr>\n",
       "      <th>1</th>\n",
       "      <td>M</td>\n",
       "      <td>81000.0</td>\n",
       "    </tr>\n",
       "    <tr>\n",
       "      <th>0</th>\n",
       "      <td>F</td>\n",
       "      <td>58615.0</td>\n",
       "    </tr>\n",
       "  </tbody>\n",
       "</table>\n",
       "</div>"
      ],
      "text/plain": [
       "  gender  transaction_amount\n",
       "1      M             81000.0\n",
       "0      F             58615.0"
      ]
     },
     "execution_count": 25,
     "metadata": {},
     "output_type": "execute_result"
    }
   ],
   "source": [
    "gender"
   ]
  },
  {
   "cell_type": "code",
   "execution_count": 26,
   "id": "3ff05629",
   "metadata": {},
   "outputs": [
    {
     "data": {
      "text/plain": [
       "<Axes: xlabel='gender', ylabel='transaction_amount'>"
      ]
     },
     "execution_count": 26,
     "metadata": {},
     "output_type": "execute_result"
    },
    {
     "data": {
      "image/png": "[encoded data removed]",
      "text/plain": [
       "<Figure size 640x480 with 1 Axes>"
      ]
     },
     "metadata": {},
     "output_type": "display_data"
    }
   ],
   "source": [
    "sns.barplot(x='gender',y='transaction_amount',data=gender)"
   ]
  },
  {
   "cell_type": "code",
   "execution_count": 27,
   "id": "32682fe8",
   "metadata": {},
   "outputs": [],
   "source": [
    "gender_fraud=fraud.groupby(['fraud_label'],as_index=False)['gender'].value_counts().sort_values(by='gender',ascending=False)"
   ]
  },
  {
   "cell_type": "code",
   "execution_count": 28,
   "id": "b0acefd1",
   "metadata": {},
   "outputs": [
    {
     "data": {
      "text/html": [
       "<div>\n",
       "<style scoped>\n",
       "    .dataframe tbody tr th:only-of-type {\n",
       "        vertical-align: middle;\n",
       "    }\n",
       "\n",
       "    .dataframe tbody tr th {\n",
       "        vertical-align: top;\n",
       "    }\n",
       "\n",
       "    .dataframe thead th {\n",
       "        text-align: right;\n",
       "    }\n",
       "</style>\n",
       "<table border=\"1\" class=\"dataframe\">\n",
       "  <thead>\n",
       "    <tr style=\"text-align: right;\">\n",
       "      <th></th>\n",
       "      <th>fraud_label</th>\n",
       "      <th>gender</th>\n",
       "      <th>count</th>\n",
       "    </tr>\n",
       "  </thead>\n",
       "  <tbody>\n",
       "    <tr>\n",
       "      <th>0</th>\n",
       "      <td>0</td>\n",
       "      <td>M</td>\n",
       "      <td>36</td>\n",
       "    </tr>\n",
       "    <tr>\n",
       "      <th>3</th>\n",
       "      <td>1</td>\n",
       "      <td>M</td>\n",
       "      <td>7</td>\n",
       "    </tr>\n",
       "    <tr>\n",
       "      <th>1</th>\n",
       "      <td>0</td>\n",
       "      <td>F</td>\n",
       "      <td>34</td>\n",
       "    </tr>\n",
       "    <tr>\n",
       "      <th>2</th>\n",
       "      <td>1</td>\n",
       "      <td>F</td>\n",
       "      <td>9</td>\n",
       "    </tr>\n",
       "  </tbody>\n",
       "</table>\n",
       "</div>"
      ],
      "text/plain": [
       "   fraud_label gender  count\n",
       "0            0      M     36\n",
       "3            1      M      7\n",
       "1            0      F     34\n",
       "2            1      F      9"
      ]
     },
     "execution_count": 28,
     "metadata": {},
     "output_type": "execute_result"
    }
   ],
   "source": [
    "gender_fraud #only fraud happen with 16 prople including 7 males and 9 females"
   ]
  },
  {
   "cell_type": "code",
   "execution_count": 29,
   "id": "d640ba1a",
   "metadata": {},
   "outputs": [
    {
     "data": {
      "text/plain": [
       "gender\n",
       "F    26500.0\n",
       "M    20000.0\n",
       "Name: transaction_amount, dtype: float64"
      ]
     },
     "execution_count": 29,
     "metadata": {},
     "output_type": "execute_result"
    }
   ],
   "source": [
    "fraud_1=graph[graph['fraud_label']==1]\n",
    "\n",
    "fraud_1.groupby('gender')['transaction_amount'].sum() # fraud amount of male and female\n"
   ]
  },
  {
   "cell_type": "code",
   "execution_count": 30,
   "id": "cbb15a79",
   "metadata": {},
   "outputs": [
    {
     "name": "stderr",
     "output_type": "stream",
     "text": [
      "C:\\Users\\anujr\\AppData\\Local\\Temp\\ipykernel_9672\\2035903431.py:1: FutureWarning: Indexing with multiple keys (implicitly converted to a tuple of keys) will be deprecated, use a list instead.\n",
      "  result=fraud_1.groupby('gender')['location','age','merchant'].value_counts() # with location\n"
     ]
    },
    {
     "data": {
      "text/plain": [
       "gender  location       age  merchant\n",
       "F       San Francisco  39   ABC Corp    2\n",
       "                       48   ABC Corp    2\n",
       "                       50   ABC Corp    2\n",
       "        Chicago        33   ABC Corp    1\n",
       "        San Francisco  45   ABC Corp    1\n",
       "                       46   ABC Corp    1\n",
       "M       Chicago        27   XYZ Inc     2\n",
       "                       38   XYZ Inc     2\n",
       "                       37   XYZ Inc     1\n",
       "        Los Angeles    28   ABC Corp    1\n",
       "        New York       42   XYZ Inc     1\n",
       "dtype: int64"
      ]
     },
     "execution_count": 30,
     "metadata": {},
     "output_type": "execute_result"
    }
   ],
   "source": [
    "result=fraud_1.groupby('gender')['location','age','merchant'].value_counts() # with location\n",
    "result"
   ]
  },
  {
   "cell_type": "code",
   "execution_count": 31,
   "id": "f3601de5",
   "metadata": {},
   "outputs": [
    {
     "data": {
      "text/html": [
       "<div>\n",
       "<style scoped>\n",
       "    .dataframe tbody tr th:only-of-type {\n",
       "        vertical-align: middle;\n",
       "    }\n",
       "\n",
       "    .dataframe tbody tr th {\n",
       "        vertical-align: top;\n",
       "    }\n",
       "\n",
       "    .dataframe thead th {\n",
       "        text-align: right;\n",
       "    }\n",
       "</style>\n",
       "<table border=\"1\" class=\"dataframe\">\n",
       "  <thead>\n",
       "    <tr style=\"text-align: right;\">\n",
       "      <th></th>\n",
       "      <th>transaction_amount</th>\n",
       "      <th>location</th>\n",
       "      <th>merchant</th>\n",
       "      <th>age</th>\n",
       "      <th>gender</th>\n",
       "      <th>fraud_label</th>\n",
       "    </tr>\n",
       "  </thead>\n",
       "  <tbody>\n",
       "    <tr>\n",
       "      <th>2</th>\n",
       "      <td>2000.0</td>\n",
       "      <td>Los Angeles</td>\n",
       "      <td>ABC Corp</td>\n",
       "      <td>28</td>\n",
       "      <td>M</td>\n",
       "      <td>1</td>\n",
       "    </tr>\n",
       "    <tr>\n",
       "      <th>5</th>\n",
       "      <td>3000.0</td>\n",
       "      <td>New York</td>\n",
       "      <td>XYZ Inc</td>\n",
       "      <td>42</td>\n",
       "      <td>M</td>\n",
       "      <td>1</td>\n",
       "    </tr>\n",
       "    <tr>\n",
       "      <th>8</th>\n",
       "      <td>2500.0</td>\n",
       "      <td>Chicago</td>\n",
       "      <td>ABC Corp</td>\n",
       "      <td>33</td>\n",
       "      <td>F</td>\n",
       "      <td>1</td>\n",
       "    </tr>\n",
       "    <tr>\n",
       "      <th>14</th>\n",
       "      <td>3000.0</td>\n",
       "      <td>San Francisco</td>\n",
       "      <td>ABC Corp</td>\n",
       "      <td>45</td>\n",
       "      <td>F</td>\n",
       "      <td>1</td>\n",
       "    </tr>\n",
       "    <tr>\n",
       "      <th>19</th>\n",
       "      <td>4000.0</td>\n",
       "      <td>Chicago</td>\n",
       "      <td>XYZ Inc</td>\n",
       "      <td>38</td>\n",
       "      <td>M</td>\n",
       "      <td>1</td>\n",
       "    </tr>\n",
       "    <tr>\n",
       "      <th>23</th>\n",
       "      <td>2300.0</td>\n",
       "      <td>Chicago</td>\n",
       "      <td>XYZ Inc</td>\n",
       "      <td>27</td>\n",
       "      <td>M</td>\n",
       "      <td>1</td>\n",
       "    </tr>\n",
       "    <tr>\n",
       "      <th>26</th>\n",
       "      <td>2800.0</td>\n",
       "      <td>San Francisco</td>\n",
       "      <td>ABC Corp</td>\n",
       "      <td>39</td>\n",
       "      <td>F</td>\n",
       "      <td>1</td>\n",
       "    </tr>\n",
       "    <tr>\n",
       "      <th>34</th>\n",
       "      <td>3200.0</td>\n",
       "      <td>San Francisco</td>\n",
       "      <td>ABC Corp</td>\n",
       "      <td>48</td>\n",
       "      <td>F</td>\n",
       "      <td>1</td>\n",
       "    </tr>\n",
       "    <tr>\n",
       "      <th>42</th>\n",
       "      <td>2800.0</td>\n",
       "      <td>San Francisco</td>\n",
       "      <td>ABC Corp</td>\n",
       "      <td>50</td>\n",
       "      <td>F</td>\n",
       "      <td>1</td>\n",
       "    </tr>\n",
       "    <tr>\n",
       "      <th>47</th>\n",
       "      <td>1900.0</td>\n",
       "      <td>Chicago</td>\n",
       "      <td>XYZ Inc</td>\n",
       "      <td>38</td>\n",
       "      <td>M</td>\n",
       "      <td>1</td>\n",
       "    </tr>\n",
       "    <tr>\n",
       "      <th>54</th>\n",
       "      <td>3000.0</td>\n",
       "      <td>San Francisco</td>\n",
       "      <td>ABC Corp</td>\n",
       "      <td>46</td>\n",
       "      <td>F</td>\n",
       "      <td>1</td>\n",
       "    </tr>\n",
       "    <tr>\n",
       "      <th>59</th>\n",
       "      <td>4000.0</td>\n",
       "      <td>Chicago</td>\n",
       "      <td>XYZ Inc</td>\n",
       "      <td>37</td>\n",
       "      <td>M</td>\n",
       "      <td>1</td>\n",
       "    </tr>\n",
       "    <tr>\n",
       "      <th>63</th>\n",
       "      <td>2800.0</td>\n",
       "      <td>Chicago</td>\n",
       "      <td>XYZ Inc</td>\n",
       "      <td>27</td>\n",
       "      <td>M</td>\n",
       "      <td>1</td>\n",
       "    </tr>\n",
       "    <tr>\n",
       "      <th>66</th>\n",
       "      <td>3200.0</td>\n",
       "      <td>San Francisco</td>\n",
       "      <td>ABC Corp</td>\n",
       "      <td>39</td>\n",
       "      <td>F</td>\n",
       "      <td>1</td>\n",
       "    </tr>\n",
       "    <tr>\n",
       "      <th>74</th>\n",
       "      <td>3200.0</td>\n",
       "      <td>San Francisco</td>\n",
       "      <td>ABC Corp</td>\n",
       "      <td>48</td>\n",
       "      <td>F</td>\n",
       "      <td>1</td>\n",
       "    </tr>\n",
       "    <tr>\n",
       "      <th>82</th>\n",
       "      <td>2800.0</td>\n",
       "      <td>San Francisco</td>\n",
       "      <td>ABC Corp</td>\n",
       "      <td>50</td>\n",
       "      <td>F</td>\n",
       "      <td>1</td>\n",
       "    </tr>\n",
       "  </tbody>\n",
       "</table>\n",
       "</div>"
      ],
      "text/plain": [
       "    transaction_amount       location  merchant  age gender  fraud_label\n",
       "2               2000.0    Los Angeles  ABC Corp   28      M            1\n",
       "5               3000.0       New York   XYZ Inc   42      M            1\n",
       "8               2500.0        Chicago  ABC Corp   33      F            1\n",
       "14              3000.0  San Francisco  ABC Corp   45      F            1\n",
       "19              4000.0        Chicago   XYZ Inc   38      M            1\n",
       "23              2300.0        Chicago   XYZ Inc   27      M            1\n",
       "26              2800.0  San Francisco  ABC Corp   39      F            1\n",
       "34              3200.0  San Francisco  ABC Corp   48      F            1\n",
       "42              2800.0  San Francisco  ABC Corp   50      F            1\n",
       "47              1900.0        Chicago   XYZ Inc   38      M            1\n",
       "54              3000.0  San Francisco  ABC Corp   46      F            1\n",
       "59              4000.0        Chicago   XYZ Inc   37      M            1\n",
       "63              2800.0        Chicago   XYZ Inc   27      M            1\n",
       "66              3200.0  San Francisco  ABC Corp   39      F            1\n",
       "74              3200.0  San Francisco  ABC Corp   48      F            1\n",
       "82              2800.0  San Francisco  ABC Corp   50      F            1"
      ]
     },
     "execution_count": 31,
     "metadata": {},
     "output_type": "execute_result"
    }
   ],
   "source": [
    "fraud_1\n"
   ]
  },
  {
   "cell_type": "code",
   "execution_count": 32,
   "id": "c5bc6dd2",
   "metadata": {},
   "outputs": [],
   "source": [
    "fraud_pre=fraud"
   ]
  },
  {
   "cell_type": "code",
   "execution_count": 33,
   "id": "4cd6a147",
   "metadata": {},
   "outputs": [
    {
     "data": {
      "text/html": [
       "<div>\n",
       "<style scoped>\n",
       "    .dataframe tbody tr th:only-of-type {\n",
       "        vertical-align: middle;\n",
       "    }\n",
       "\n",
       "    .dataframe tbody tr th {\n",
       "        vertical-align: top;\n",
       "    }\n",
       "\n",
       "    .dataframe thead th {\n",
       "        text-align: right;\n",
       "    }\n",
       "</style>\n",
       "<table border=\"1\" class=\"dataframe\">\n",
       "  <thead>\n",
       "    <tr style=\"text-align: right;\">\n",
       "      <th></th>\n",
       "      <th>transaction_id</th>\n",
       "      <th>transaction_amount</th>\n",
       "      <th>location</th>\n",
       "      <th>merchant</th>\n",
       "      <th>age</th>\n",
       "      <th>gender</th>\n",
       "      <th>fraud_label</th>\n",
       "    </tr>\n",
       "  </thead>\n",
       "  <tbody>\n",
       "    <tr>\n",
       "      <th>0</th>\n",
       "      <td>1</td>\n",
       "      <td>1000.0</td>\n",
       "      <td>New York</td>\n",
       "      <td>ABC Corp</td>\n",
       "      <td>35</td>\n",
       "      <td>M</td>\n",
       "      <td>0</td>\n",
       "    </tr>\n",
       "    <tr>\n",
       "      <th>1</th>\n",
       "      <td>2</td>\n",
       "      <td>500.0</td>\n",
       "      <td>Chicago</td>\n",
       "      <td>XYZ Inc</td>\n",
       "      <td>45</td>\n",
       "      <td>F</td>\n",
       "      <td>0</td>\n",
       "    </tr>\n",
       "    <tr>\n",
       "      <th>2</th>\n",
       "      <td>3</td>\n",
       "      <td>2000.0</td>\n",
       "      <td>Los Angeles</td>\n",
       "      <td>ABC Corp</td>\n",
       "      <td>28</td>\n",
       "      <td>M</td>\n",
       "      <td>1</td>\n",
       "    </tr>\n",
       "    <tr>\n",
       "      <th>3</th>\n",
       "      <td>4</td>\n",
       "      <td>1500.0</td>\n",
       "      <td>San Francisco</td>\n",
       "      <td>XYZ Inc</td>\n",
       "      <td>30</td>\n",
       "      <td>F</td>\n",
       "      <td>0</td>\n",
       "    </tr>\n",
       "    <tr>\n",
       "      <th>4</th>\n",
       "      <td>5</td>\n",
       "      <td>800.0</td>\n",
       "      <td>Chicago</td>\n",
       "      <td>ABC Corp</td>\n",
       "      <td>50</td>\n",
       "      <td>F</td>\n",
       "      <td>0</td>\n",
       "    </tr>\n",
       "  </tbody>\n",
       "</table>\n",
       "</div>"
      ],
      "text/plain": [
       "   transaction_id  transaction_amount       location  merchant  age gender  \\\n",
       "0               1              1000.0       New York  ABC Corp   35      M   \n",
       "1               2               500.0        Chicago   XYZ Inc   45      F   \n",
       "2               3              2000.0    Los Angeles  ABC Corp   28      M   \n",
       "3               4              1500.0  San Francisco   XYZ Inc   30      F   \n",
       "4               5               800.0        Chicago  ABC Corp   50      F   \n",
       "\n",
       "   fraud_label  \n",
       "0            0  \n",
       "1            0  \n",
       "2            1  \n",
       "3            0  \n",
       "4            0  "
      ]
     },
     "execution_count": 33,
     "metadata": {},
     "output_type": "execute_result"
    }
   ],
   "source": [
    "fraud_pre.head()"
   ]
  },
  {
   "cell_type": "code",
   "execution_count": 34,
   "id": "9d9dbef9",
   "metadata": {},
   "outputs": [],
   "source": [
    "fraud_pre=pd.get_dummies(fraud_pre)"
   ]
  },
  {
   "cell_type": "code",
   "execution_count": 35,
   "id": "b452435c",
   "metadata": {},
   "outputs": [
    {
     "data": {
      "text/html": [
       "<div>\n",
       "<style scoped>\n",
       "    .dataframe tbody tr th:only-of-type {\n",
       "        vertical-align: middle;\n",
       "    }\n",
       "\n",
       "    .dataframe tbody tr th {\n",
       "        vertical-align: top;\n",
       "    }\n",
       "\n",
       "    .dataframe thead th {\n",
       "        text-align: right;\n",
       "    }\n",
       "</style>\n",
       "<table border=\"1\" class=\"dataframe\">\n",
       "  <thead>\n",
       "    <tr style=\"text-align: right;\">\n",
       "      <th></th>\n",
       "      <th>transaction_id</th>\n",
       "      <th>transaction_amount</th>\n",
       "      <th>age</th>\n",
       "      <th>fraud_label</th>\n",
       "      <th>location_Chicago</th>\n",
       "      <th>location_Los Angeles</th>\n",
       "      <th>location_New York</th>\n",
       "      <th>location_San Francisco</th>\n",
       "      <th>merchant_ABC Corp</th>\n",
       "      <th>merchant_XYZ Inc</th>\n",
       "      <th>gender_F</th>\n",
       "      <th>gender_M</th>\n",
       "    </tr>\n",
       "  </thead>\n",
       "  <tbody>\n",
       "    <tr>\n",
       "      <th>0</th>\n",
       "      <td>1</td>\n",
       "      <td>1000.0</td>\n",
       "      <td>35</td>\n",
       "      <td>0</td>\n",
       "      <td>0</td>\n",
       "      <td>0</td>\n",
       "      <td>1</td>\n",
       "      <td>0</td>\n",
       "      <td>1</td>\n",
       "      <td>0</td>\n",
       "      <td>0</td>\n",
       "      <td>1</td>\n",
       "    </tr>\n",
       "    <tr>\n",
       "      <th>1</th>\n",
       "      <td>2</td>\n",
       "      <td>500.0</td>\n",
       "      <td>45</td>\n",
       "      <td>0</td>\n",
       "      <td>1</td>\n",
       "      <td>0</td>\n",
       "      <td>0</td>\n",
       "      <td>0</td>\n",
       "      <td>0</td>\n",
       "      <td>1</td>\n",
       "      <td>1</td>\n",
       "      <td>0</td>\n",
       "    </tr>\n",
       "    <tr>\n",
       "      <th>2</th>\n",
       "      <td>3</td>\n",
       "      <td>2000.0</td>\n",
       "      <td>28</td>\n",
       "      <td>1</td>\n",
       "      <td>0</td>\n",
       "      <td>1</td>\n",
       "      <td>0</td>\n",
       "      <td>0</td>\n",
       "      <td>1</td>\n",
       "      <td>0</td>\n",
       "      <td>0</td>\n",
       "      <td>1</td>\n",
       "    </tr>\n",
       "    <tr>\n",
       "      <th>3</th>\n",
       "      <td>4</td>\n",
       "      <td>1500.0</td>\n",
       "      <td>30</td>\n",
       "      <td>0</td>\n",
       "      <td>0</td>\n",
       "      <td>0</td>\n",
       "      <td>0</td>\n",
       "      <td>1</td>\n",
       "      <td>0</td>\n",
       "      <td>1</td>\n",
       "      <td>1</td>\n",
       "      <td>0</td>\n",
       "    </tr>\n",
       "    <tr>\n",
       "      <th>4</th>\n",
       "      <td>5</td>\n",
       "      <td>800.0</td>\n",
       "      <td>50</td>\n",
       "      <td>0</td>\n",
       "      <td>1</td>\n",
       "      <td>0</td>\n",
       "      <td>0</td>\n",
       "      <td>0</td>\n",
       "      <td>1</td>\n",
       "      <td>0</td>\n",
       "      <td>1</td>\n",
       "      <td>0</td>\n",
       "    </tr>\n",
       "  </tbody>\n",
       "</table>\n",
       "</div>"
      ],
      "text/plain": [
       "   transaction_id  transaction_amount  age  fraud_label  location_Chicago  \\\n",
       "0               1              1000.0   35            0                 0   \n",
       "1               2               500.0   45            0                 1   \n",
       "2               3              2000.0   28            1                 0   \n",
       "3               4              1500.0   30            0                 0   \n",
       "4               5               800.0   50            0                 1   \n",
       "\n",
       "   location_Los Angeles  location_New York  location_San Francisco  \\\n",
       "0                     0                  1                       0   \n",
       "1                     0                  0                       0   \n",
       "2                     1                  0                       0   \n",
       "3                     0                  0                       1   \n",
       "4                     0                  0                       0   \n",
       "\n",
       "   merchant_ABC Corp  merchant_XYZ Inc  gender_F  gender_M  \n",
       "0                  1                 0         0         1  \n",
       "1                  0                 1         1         0  \n",
       "2                  1                 0         0         1  \n",
       "3                  0                 1         1         0  \n",
       "4                  1                 0         1         0  "
      ]
     },
     "execution_count": 35,
     "metadata": {},
     "output_type": "execute_result"
    }
   ],
   "source": [
    "fraud_pre.head()"
   ]
  },
  {
   "cell_type": "code",
   "execution_count": 36,
   "id": "e508c0e5",
   "metadata": {},
   "outputs": [
    {
     "data": {
      "text/plain": [
       "(86, 12)"
      ]
     },
     "execution_count": 36,
     "metadata": {},
     "output_type": "execute_result"
    }
   ],
   "source": [
    "fraud_pre.shape #now dataset contain 86 rows and 12 columns"
   ]
  },
  {
   "cell_type": "code",
   "execution_count": 232,
   "id": "74b19e3f",
   "metadata": {},
   "outputs": [],
   "source": [
    "X=fraud_pre.drop(['fraud_label','transaction_id'],axis=1)"
   ]
  },
  {
   "cell_type": "code",
   "execution_count": 233,
   "id": "423bcb18",
   "metadata": {},
   "outputs": [],
   "source": [
    "Y=fraud_pre['fraud_label']"
   ]
  },
  {
   "cell_type": "code",
   "execution_count": 235,
   "id": "00eb89ac",
   "metadata": {},
   "outputs": [],
   "source": [
    "from sklearn.model_selection import train_test_split"
   ]
  },
  {
   "cell_type": "code",
   "execution_count": 237,
   "id": "6abd40ed",
   "metadata": {},
   "outputs": [],
   "source": [
    "X_train,X_test,Y_train,Y_test=train_test_split(X,Y, test_size=0.2,random_state=23)"
   ]
  },
  {
   "cell_type": "code",
   "execution_count": 239,
   "id": "42a25f40",
   "metadata": {},
   "outputs": [
    {
     "name": "stdout",
     "output_type": "stream",
     "text": [
      "shape of X train (68, 10)\n",
      "shape of X test (18, 10)\n",
      "shape of Y train (68,)\n",
      "shape of Y test (18,)\n"
     ]
    }
   ],
   "source": [
    "print(\"shape of X train\",X_train.shape)\n",
    "print(\"shape of X test\",X_test.shape)\n",
    "print(\"shape of Y train\",Y_train.shape)\n",
    "print(\"shape of Y test\",Y_test.shape)"
   ]
  },
  {
   "cell_type": "code",
   "execution_count": 240,
   "id": "a9a26562",
   "metadata": {},
   "outputs": [],
   "source": [
    "from sklearn.linear_model import LogisticRegression"
   ]
  },
  {
   "cell_type": "code",
   "execution_count": 241,
   "id": "d91df584",
   "metadata": {},
   "outputs": [
    {
     "name": "stderr",
     "output_type": "stream",
     "text": [
      "C:\\ProgramData\\anaconda3\\Lib\\site-packages\\sklearn\\linear_model\\_logistic.py:460: ConvergenceWarning: lbfgs failed to converge (status=1):\n",
      "STOP: TOTAL NO. of ITERATIONS REACHED LIMIT.\n",
      "\n",
      "Increase the number of iterations (max_iter) or scale the data as shown in:\n",
      "    https://scikit-learn.org/stable/modules/preprocessing.html\n",
      "Please also refer to the documentation for alternative solver options:\n",
      "    https://scikit-learn.org/stable/modules/linear_model.html#logistic-regression\n",
      "  n_iter_i = _check_optimize_result(\n"
     ]
    },
    {
     "data": {
      "text/html": [
       "<style>#sk-container-id-11 {color: black;}#sk-container-id-11 pre{padding: 0;}#sk-container-id-11 div.sk-toggleable {background-color: white;}#sk-container-id-11 label.sk-toggleable__label {cursor: pointer;display: block;width: 100%;margin-bottom: 0;padding: 0.3em;box-sizing: border-box;text-align: center;}#sk-container-id-11 label.sk-toggleable__label-arrow:before {content: \"▸\";float: left;margin-right: 0.25em;color: #696969;}#sk-container-id-11 label.sk-toggleable__label-arrow:hover:before {color: black;}#sk-container-id-11 div.sk-estimator:hover label.sk-toggleable__label-arrow:before {color: black;}#sk-container-id-11 div.sk-toggleable__content {max-height: 0;max-width: 0;overflow: hidden;text-align: left;background-color: #f0f8ff;}#sk-container-id-11 div.sk-toggleable__content pre {margin: 0.2em;color: black;border-radius: 0.25em;background-color: #f0f8ff;}#sk-container-id-11 input.sk-toggleable__control:checked~div.sk-toggleable__content {max-height: 200px;max-width: 100%;overflow: auto;}#sk-container-id-11 input.sk-toggleable__control:checked~label.sk-toggleable__label-arrow:before {content: \"▾\";}#sk-container-id-11 div.sk-estimator input.sk-toggleable__control:checked~label.sk-toggleable__label {background-color: #d4ebff;}#sk-container-id-11 div.sk-label input.sk-toggleable__control:checked~label.sk-toggleable__label {background-color: #d4ebff;}#sk-container-id-11 input.sk-hidden--visually {border: 0;clip: rect(1px 1px 1px 1px);clip: rect(1px, 1px, 1px, 1px);height: 1px;margin: -1px;overflow: hidden;padding: 0;position: absolute;width: 1px;}#sk-container-id-11 div.sk-estimator {font-family: monospace;background-color: #f0f8ff;border: 1px dotted black;border-radius: 0.25em;box-sizing: border-box;margin-bottom: 0.5em;}#sk-container-id-11 div.sk-estimator:hover {background-color: #d4ebff;}#sk-container-id-11 div.sk-parallel-item::after {content: \"\";width: 100%;border-bottom: 1px solid gray;flex-grow: 1;}#sk-container-id-11 div.sk-label:hover label.sk-toggleable__label {background-color: #d4ebff;}#sk-container-id-11 div.sk-serial::before {content: \"\";position: absolute;border-left: 1px solid gray;box-sizing: border-box;top: 0;bottom: 0;left: 50%;z-index: 0;}#sk-container-id-11 div.sk-serial {display: flex;flex-direction: column;align-items: center;background-color: white;padding-right: 0.2em;padding-left: 0.2em;position: relative;}#sk-container-id-11 div.sk-item {position: relative;z-index: 1;}#sk-container-id-11 div.sk-parallel {display: flex;align-items: stretch;justify-content: center;background-color: white;position: relative;}#sk-container-id-11 div.sk-item::before, #sk-container-id-11 div.sk-parallel-item::before {content: \"\";position: absolute;border-left: 1px solid gray;box-sizing: border-box;top: 0;bottom: 0;left: 50%;z-index: -1;}#sk-container-id-11 div.sk-parallel-item {display: flex;flex-direction: column;z-index: 1;position: relative;background-color: white;}#sk-container-id-11 div.sk-parallel-item:first-child::after {align-self: flex-end;width: 50%;}#sk-container-id-11 div.sk-parallel-item:last-child::after {align-self: flex-start;width: 50%;}#sk-container-id-11 div.sk-parallel-item:only-child::after {width: 0;}#sk-container-id-11 div.sk-dashed-wrapped {border: 1px dashed gray;margin: 0 0.4em 0.5em 0.4em;box-sizing: border-box;padding-bottom: 0.4em;background-color: white;}#sk-container-id-11 div.sk-label label {font-family: monospace;font-weight: bold;display: inline-block;line-height: 1.2em;}#sk-container-id-11 div.sk-label-container {text-align: center;}#sk-container-id-11 div.sk-container {/* jupyter's `normalize.less` sets `[hidden] { display: none; }` but bootstrap.min.css set `[hidden] { display: none !important; }` so we also need the `!important` here to be able to override the default hidden behavior on the sphinx rendered scikit-learn.org. See: https://github.com/scikit-learn/scikit-learn/issues/21755 */display: inline-block !important;position: relative;}#sk-container-id-11 div.sk-text-repr-fallback {display: none;}</style><div id=\"sk-container-id-11\" class=\"sk-top-container\"><div class=\"sk-text-repr-fallback\"><pre>LogisticRegression()</pre><b>In a Jupyter environment, please rerun this cell to show the HTML representation or trust the notebook. <br />On GitHub, the HTML representation is unable to render, please try loading this page with nbviewer.org.</b></div><div class=\"sk-container\" hidden><div class=\"sk-item\"><div class=\"sk-estimator sk-toggleable\"><input class=\"sk-toggleable__control sk-hidden--visually\" id=\"sk-estimator-id-11\" type=\"checkbox\" checked><label for=\"sk-estimator-id-11\" class=\"sk-toggleable__label sk-toggleable__label-arrow\">LogisticRegression</label><div class=\"sk-toggleable__content\"><pre>LogisticRegression()</pre></div></div></div></div></div>"
      ],
      "text/plain": [
       "LogisticRegression()"
      ]
     },
     "execution_count": 241,
     "metadata": {},
     "output_type": "execute_result"
    }
   ],
   "source": [
    "lgr=LogisticRegression()\n",
    "lgr.fit(X_train,Y_train)\n"
   ]
  },
  {
   "cell_type": "code",
   "execution_count": 242,
   "id": "95b68ca4",
   "metadata": {},
   "outputs": [
    {
     "data": {
      "text/plain": [
       "1.0"
      ]
     },
     "execution_count": 242,
     "metadata": {},
     "output_type": "execute_result"
    }
   ],
   "source": [
    "lgr.score(X_test,Y_test)"
   ]
  },
  {
   "cell_type": "code",
   "execution_count": 243,
   "id": "895e0f55",
   "metadata": {},
   "outputs": [
    {
     "data": {
      "text/plain": [
       "array([1, 0, 0, 0, 0, 1, 0, 0, 0, 0, 0, 0, 1, 0, 0, 0, 0, 1], dtype=int64)"
      ]
     },
     "execution_count": 243,
     "metadata": {},
     "output_type": "execute_result"
    }
   ],
   "source": [
    "lgr.predict(X_test)"
   ]
  },
  {
   "cell_type": "code",
   "execution_count": 195,
   "id": "9e7dc596",
   "metadata": {},
   "outputs": [
    {
     "data": {
      "text/plain": [
       "82    1\n",
       "3     0\n",
       "85    0\n",
       "77    0\n",
       "29    0\n",
       "26    1\n",
       "9     0\n",
       "71    0\n",
       "56    0\n",
       "53    0\n",
       "37    0\n",
       "17    0\n",
       "8     1\n",
       "24    0\n",
       "28    0\n",
       "4     0\n",
       "27    0\n",
       "5     1\n",
       "Name: fraud_label, dtype: int64"
      ]
     },
     "execution_count": 195,
     "metadata": {},
     "output_type": "execute_result"
    }
   ],
   "source": [
    "Y_test"
   ]
  },
  {
   "cell_type": "code",
   "execution_count": 196,
   "id": "86ab643c",
   "metadata": {},
   "outputs": [],
   "source": [
    "from sklearn.preprocessing import StandardScaler"
   ]
  },
  {
   "cell_type": "code",
   "execution_count": 197,
   "id": "b31925bd",
   "metadata": {},
   "outputs": [
    {
     "data": {
      "text/html": [
       "<style>#sk-container-id-9 {color: black;}#sk-container-id-9 pre{padding: 0;}#sk-container-id-9 div.sk-toggleable {background-color: white;}#sk-container-id-9 label.sk-toggleable__label {cursor: pointer;display: block;width: 100%;margin-bottom: 0;padding: 0.3em;box-sizing: border-box;text-align: center;}#sk-container-id-9 label.sk-toggleable__label-arrow:before {content: \"▸\";float: left;margin-right: 0.25em;color: #696969;}#sk-container-id-9 label.sk-toggleable__label-arrow:hover:before {color: black;}#sk-container-id-9 div.sk-estimator:hover label.sk-toggleable__label-arrow:before {color: black;}#sk-container-id-9 div.sk-toggleable__content {max-height: 0;max-width: 0;overflow: hidden;text-align: left;background-color: #f0f8ff;}#sk-container-id-9 div.sk-toggleable__content pre {margin: 0.2em;color: black;border-radius: 0.25em;background-color: #f0f8ff;}#sk-container-id-9 input.sk-toggleable__control:checked~div.sk-toggleable__content {max-height: 200px;max-width: 100%;overflow: auto;}#sk-container-id-9 input.sk-toggleable__control:checked~label.sk-toggleable__label-arrow:before {content: \"▾\";}#sk-container-id-9 div.sk-estimator input.sk-toggleable__control:checked~label.sk-toggleable__label {background-color: #d4ebff;}#sk-container-id-9 div.sk-label input.sk-toggleable__control:checked~label.sk-toggleable__label {background-color: #d4ebff;}#sk-container-id-9 input.sk-hidden--visually {border: 0;clip: rect(1px 1px 1px 1px);clip: rect(1px, 1px, 1px, 1px);height: 1px;margin: -1px;overflow: hidden;padding: 0;position: absolute;width: 1px;}#sk-container-id-9 div.sk-estimator {font-family: monospace;background-color: #f0f8ff;border: 1px dotted black;border-radius: 0.25em;box-sizing: border-box;margin-bottom: 0.5em;}#sk-container-id-9 div.sk-estimator:hover {background-color: #d4ebff;}#sk-container-id-9 div.sk-parallel-item::after {content: \"\";width: 100%;border-bottom: 1px solid gray;flex-grow: 1;}#sk-container-id-9 div.sk-label:hover label.sk-toggleable__label {background-color: #d4ebff;}#sk-container-id-9 div.sk-serial::before {content: \"\";position: absolute;border-left: 1px solid gray;box-sizing: border-box;top: 0;bottom: 0;left: 50%;z-index: 0;}#sk-container-id-9 div.sk-serial {display: flex;flex-direction: column;align-items: center;background-color: white;padding-right: 0.2em;padding-left: 0.2em;position: relative;}#sk-container-id-9 div.sk-item {position: relative;z-index: 1;}#sk-container-id-9 div.sk-parallel {display: flex;align-items: stretch;justify-content: center;background-color: white;position: relative;}#sk-container-id-9 div.sk-item::before, #sk-container-id-9 div.sk-parallel-item::before {content: \"\";position: absolute;border-left: 1px solid gray;box-sizing: border-box;top: 0;bottom: 0;left: 50%;z-index: -1;}#sk-container-id-9 div.sk-parallel-item {display: flex;flex-direction: column;z-index: 1;position: relative;background-color: white;}#sk-container-id-9 div.sk-parallel-item:first-child::after {align-self: flex-end;width: 50%;}#sk-container-id-9 div.sk-parallel-item:last-child::after {align-self: flex-start;width: 50%;}#sk-container-id-9 div.sk-parallel-item:only-child::after {width: 0;}#sk-container-id-9 div.sk-dashed-wrapped {border: 1px dashed gray;margin: 0 0.4em 0.5em 0.4em;box-sizing: border-box;padding-bottom: 0.4em;background-color: white;}#sk-container-id-9 div.sk-label label {font-family: monospace;font-weight: bold;display: inline-block;line-height: 1.2em;}#sk-container-id-9 div.sk-label-container {text-align: center;}#sk-container-id-9 div.sk-container {/* jupyter's `normalize.less` sets `[hidden] { display: none; }` but bootstrap.min.css set `[hidden] { display: none !important; }` so we also need the `!important` here to be able to override the default hidden behavior on the sphinx rendered scikit-learn.org. See: https://github.com/scikit-learn/scikit-learn/issues/21755 */display: inline-block !important;position: relative;}#sk-container-id-9 div.sk-text-repr-fallback {display: none;}</style><div id=\"sk-container-id-9\" class=\"sk-top-container\"><div class=\"sk-text-repr-fallback\"><pre>StandardScaler()</pre><b>In a Jupyter environment, please rerun this cell to show the HTML representation or trust the notebook. <br />On GitHub, the HTML representation is unable to render, please try loading this page with nbviewer.org.</b></div><div class=\"sk-container\" hidden><div class=\"sk-item\"><div class=\"sk-estimator sk-toggleable\"><input class=\"sk-toggleable__control sk-hidden--visually\" id=\"sk-estimator-id-9\" type=\"checkbox\" checked><label for=\"sk-estimator-id-9\" class=\"sk-toggleable__label sk-toggleable__label-arrow\">StandardScaler</label><div class=\"sk-toggleable__content\"><pre>StandardScaler()</pre></div></div></div></div></div>"
      ],
      "text/plain": [
       "StandardScaler()"
      ]
     },
     "execution_count": 197,
     "metadata": {},
     "output_type": "execute_result"
    }
   ],
   "source": [
    "sc=StandardScaler()\n",
    "sc.fit(X_train)"
   ]
  },
  {
   "cell_type": "code",
   "execution_count": 198,
   "id": "c8f0e930",
   "metadata": {},
   "outputs": [
    {
     "data": {
      "text/plain": [
       "array([1.57669118e+03, 4.00294118e+01, 2.64705882e-01, 2.20588235e-01,\n",
       "       2.50000000e-01, 2.64705882e-01, 5.29411765e-01, 4.70588235e-01,\n",
       "       5.14705882e-01, 4.85294118e-01])"
      ]
     },
     "execution_count": 198,
     "metadata": {},
     "output_type": "execute_result"
    }
   ],
   "source": [
    "sc.mean_"
   ]
  },
  {
   "cell_type": "code",
   "execution_count": 199,
   "id": "3764efe4",
   "metadata": {},
   "outputs": [],
   "source": [
    "X_train_sc=sc.transform(X_train)\n",
    "X_test_sc=sc.transform(X_test)\n"
   ]
  },
  {
   "cell_type": "code",
   "execution_count": 200,
   "id": "d0520541",
   "metadata": {},
   "outputs": [
    {
     "data": {
      "text/html": [
       "<style>#sk-container-id-10 {color: black;}#sk-container-id-10 pre{padding: 0;}#sk-container-id-10 div.sk-toggleable {background-color: white;}#sk-container-id-10 label.sk-toggleable__label {cursor: pointer;display: block;width: 100%;margin-bottom: 0;padding: 0.3em;box-sizing: border-box;text-align: center;}#sk-container-id-10 label.sk-toggleable__label-arrow:before {content: \"▸\";float: left;margin-right: 0.25em;color: #696969;}#sk-container-id-10 label.sk-toggleable__label-arrow:hover:before {color: black;}#sk-container-id-10 div.sk-estimator:hover label.sk-toggleable__label-arrow:before {color: black;}#sk-container-id-10 div.sk-toggleable__content {max-height: 0;max-width: 0;overflow: hidden;text-align: left;background-color: #f0f8ff;}#sk-container-id-10 div.sk-toggleable__content pre {margin: 0.2em;color: black;border-radius: 0.25em;background-color: #f0f8ff;}#sk-container-id-10 input.sk-toggleable__control:checked~div.sk-toggleable__content {max-height: 200px;max-width: 100%;overflow: auto;}#sk-container-id-10 input.sk-toggleable__control:checked~label.sk-toggleable__label-arrow:before {content: \"▾\";}#sk-container-id-10 div.sk-estimator input.sk-toggleable__control:checked~label.sk-toggleable__label {background-color: #d4ebff;}#sk-container-id-10 div.sk-label input.sk-toggleable__control:checked~label.sk-toggleable__label {background-color: #d4ebff;}#sk-container-id-10 input.sk-hidden--visually {border: 0;clip: rect(1px 1px 1px 1px);clip: rect(1px, 1px, 1px, 1px);height: 1px;margin: -1px;overflow: hidden;padding: 0;position: absolute;width: 1px;}#sk-container-id-10 div.sk-estimator {font-family: monospace;background-color: #f0f8ff;border: 1px dotted black;border-radius: 0.25em;box-sizing: border-box;margin-bottom: 0.5em;}#sk-container-id-10 div.sk-estimator:hover {background-color: #d4ebff;}#sk-container-id-10 div.sk-parallel-item::after {content: \"\";width: 100%;border-bottom: 1px solid gray;flex-grow: 1;}#sk-container-id-10 div.sk-label:hover label.sk-toggleable__label {background-color: #d4ebff;}#sk-container-id-10 div.sk-serial::before {content: \"\";position: absolute;border-left: 1px solid gray;box-sizing: border-box;top: 0;bottom: 0;left: 50%;z-index: 0;}#sk-container-id-10 div.sk-serial {display: flex;flex-direction: column;align-items: center;background-color: white;padding-right: 0.2em;padding-left: 0.2em;position: relative;}#sk-container-id-10 div.sk-item {position: relative;z-index: 1;}#sk-container-id-10 div.sk-parallel {display: flex;align-items: stretch;justify-content: center;background-color: white;position: relative;}#sk-container-id-10 div.sk-item::before, #sk-container-id-10 div.sk-parallel-item::before {content: \"\";position: absolute;border-left: 1px solid gray;box-sizing: border-box;top: 0;bottom: 0;left: 50%;z-index: -1;}#sk-container-id-10 div.sk-parallel-item {display: flex;flex-direction: column;z-index: 1;position: relative;background-color: white;}#sk-container-id-10 div.sk-parallel-item:first-child::after {align-self: flex-end;width: 50%;}#sk-container-id-10 div.sk-parallel-item:last-child::after {align-self: flex-start;width: 50%;}#sk-container-id-10 div.sk-parallel-item:only-child::after {width: 0;}#sk-container-id-10 div.sk-dashed-wrapped {border: 1px dashed gray;margin: 0 0.4em 0.5em 0.4em;box-sizing: border-box;padding-bottom: 0.4em;background-color: white;}#sk-container-id-10 div.sk-label label {font-family: monospace;font-weight: bold;display: inline-block;line-height: 1.2em;}#sk-container-id-10 div.sk-label-container {text-align: center;}#sk-container-id-10 div.sk-container {/* jupyter's `normalize.less` sets `[hidden] { display: none; }` but bootstrap.min.css set `[hidden] { display: none !important; }` so we also need the `!important` here to be able to override the default hidden behavior on the sphinx rendered scikit-learn.org. See: https://github.com/scikit-learn/scikit-learn/issues/21755 */display: inline-block !important;position: relative;}#sk-container-id-10 div.sk-text-repr-fallback {display: none;}</style><div id=\"sk-container-id-10\" class=\"sk-top-container\"><div class=\"sk-text-repr-fallback\"><pre>LogisticRegression()</pre><b>In a Jupyter environment, please rerun this cell to show the HTML representation or trust the notebook. <br />On GitHub, the HTML representation is unable to render, please try loading this page with nbviewer.org.</b></div><div class=\"sk-container\" hidden><div class=\"sk-item\"><div class=\"sk-estimator sk-toggleable\"><input class=\"sk-toggleable__control sk-hidden--visually\" id=\"sk-estimator-id-10\" type=\"checkbox\" checked><label for=\"sk-estimator-id-10\" class=\"sk-toggleable__label sk-toggleable__label-arrow\">LogisticRegression</label><div class=\"sk-toggleable__content\"><pre>LogisticRegression()</pre></div></div></div></div></div>"
      ],
      "text/plain": [
       "LogisticRegression()"
      ]
     },
     "execution_count": 200,
     "metadata": {},
     "output_type": "execute_result"
    }
   ],
   "source": [
    "lgr.fit(X_train_sc,Y_train)"
   ]
  },
  {
   "cell_type": "code",
   "execution_count": 201,
   "id": "e9069c91",
   "metadata": {},
   "outputs": [
    {
     "data": {
      "text/plain": [
       "0.9444444444444444"
      ]
     },
     "execution_count": 201,
     "metadata": {},
     "output_type": "execute_result"
    }
   ],
   "source": [
    "lgr.score(X_test_sc,Y_test)"
   ]
  },
  {
   "cell_type": "code",
   "execution_count": 202,
   "id": "54b5660c",
   "metadata": {},
   "outputs": [],
   "source": [
    "# the accuracy of data remains same after Feature scaling the data"
   ]
  },
  {
   "cell_type": "code",
   "execution_count": 203,
   "id": "fc10eb1a",
   "metadata": {},
   "outputs": [],
   "source": [
    "# use another model "
   ]
  },
  {
   "cell_type": "code",
   "execution_count": 204,
   "id": "0dba3ff7",
   "metadata": {},
   "outputs": [],
   "source": [
    "from sklearn.svm import SVC"
   ]
  },
  {
   "cell_type": "code",
   "execution_count": 205,
   "id": "b35bf450",
   "metadata": {},
   "outputs": [],
   "source": [
    "cls=SVC(kernel='linear')"
   ]
  },
  {
   "cell_type": "code",
   "execution_count": 206,
   "id": "7060869b",
   "metadata": {},
   "outputs": [
    {
     "data": {
      "text/plain": [
       "0.9444444444444444"
      ]
     },
     "execution_count": 206,
     "metadata": {},
     "output_type": "execute_result"
    }
   ],
   "source": [
    "cls.fit(X_train,Y_train)\n",
    "cls.score(X_test,Y_test)"
   ]
  },
  {
   "cell_type": "code",
   "execution_count": 207,
   "id": "2c618558",
   "metadata": {},
   "outputs": [],
   "source": [
    "cls1=SVC(kernel='linear')"
   ]
  },
  {
   "cell_type": "code",
   "execution_count": 208,
   "id": "599c3c96",
   "metadata": {},
   "outputs": [
    {
     "data": {
      "text/plain": [
       "0.9444444444444444"
      ]
     },
     "execution_count": 208,
     "metadata": {},
     "output_type": "execute_result"
    }
   ],
   "source": [
    "cls1.fit(X_train_sc,Y_train)\n",
    "cls1.score(X_test_sc,Y_test)"
   ]
  },
  {
   "cell_type": "code",
   "execution_count": 209,
   "id": "a5fa1aaf",
   "metadata": {},
   "outputs": [
    {
     "data": {
      "text/plain": [
       "array([1, 0, 0, 0, 0, 1, 0, 0, 0, 0, 0, 0, 1, 0, 0, 0, 0, 0], dtype=int64)"
      ]
     },
     "execution_count": 209,
     "metadata": {},
     "output_type": "execute_result"
    }
   ],
   "source": [
    "cls.predict(X_test)"
   ]
  },
  {
   "cell_type": "code",
   "execution_count": 210,
   "id": "d6bb2399",
   "metadata": {},
   "outputs": [],
   "source": [
    "# now checking with random forest tree"
   ]
  },
  {
   "cell_type": "code",
   "execution_count": 211,
   "id": "547a01ee",
   "metadata": {},
   "outputs": [],
   "source": [
    "#from sklearn.ensemble import RandomForestClassifier"
   ]
  },
  {
   "cell_type": "code",
   "execution_count": 212,
   "id": "dc7867e3",
   "metadata": {},
   "outputs": [],
   "source": [
    "#rfc=RandomForestClassifier()"
   ]
  },
  {
   "cell_type": "code",
   "execution_count": 213,
   "id": "d84f6a92",
   "metadata": {},
   "outputs": [],
   "source": [
    "#rfc.fit(X_train,Y_train)\n",
    "#rfc.score(X_test,Y_test) # minimum accuracy as comparison to others"
   ]
  },
  {
   "cell_type": "code",
   "execution_count": 214,
   "id": "f3f0bfd9",
   "metadata": {},
   "outputs": [],
   "source": [
    "#rfc.predict(X_test)\n"
   ]
  },
  {
   "cell_type": "code",
   "execution_count": 215,
   "id": "43d1b3b0",
   "metadata": {},
   "outputs": [],
   "source": [
    "#using k nearst neighbour"
   ]
  },
  {
   "cell_type": "code",
   "execution_count": 216,
   "id": "71942a26",
   "metadata": {},
   "outputs": [],
   "source": [
    "from sklearn.neighbors import KNeighborsClassifier"
   ]
  },
  {
   "cell_type": "code",
   "execution_count": 217,
   "id": "fa4eade0",
   "metadata": {},
   "outputs": [],
   "source": [
    "knc= KNeighborsClassifier()\n"
   ]
  },
  {
   "cell_type": "code",
   "execution_count": 218,
   "id": "aaa01b1f",
   "metadata": {},
   "outputs": [
    {
     "data": {
      "text/plain": [
       "0.9444444444444444"
      ]
     },
     "execution_count": 218,
     "metadata": {},
     "output_type": "execute_result"
    }
   ],
   "source": [
    "knc.fit(X_train,Y_train)\n",
    "knc.score(X_test,Y_test)"
   ]
  },
  {
   "cell_type": "code",
   "execution_count": 219,
   "id": "fc5ac43c",
   "metadata": {},
   "outputs": [
    {
     "data": {
      "text/plain": [
       "array([1, 0, 0, 0, 0, 1, 0, 0, 0, 0, 0, 0, 0, 0, 0, 0, 0, 1], dtype=int64)"
      ]
     },
     "execution_count": 219,
     "metadata": {},
     "output_type": "execute_result"
    }
   ],
   "source": [
    "knc.predict(X_test)"
   ]
  },
  {
   "cell_type": "code",
   "execution_count": 220,
   "id": "8d0bbd95",
   "metadata": {},
   "outputs": [],
   "source": [
    "#using naive bayes classifier"
   ]
  },
  {
   "cell_type": "code",
   "execution_count": 221,
   "id": "8bbee0fb",
   "metadata": {},
   "outputs": [],
   "source": [
    "#from sklearn.naive_bayes import GaussianNB\n",
    "#from sklearn.naive_bayes import BernoulliNB\n",
    "#from sklearn.naive_bayes import MultinomialNB"
   ]
  },
  {
   "cell_type": "code",
   "execution_count": 222,
   "id": "31602104",
   "metadata": {},
   "outputs": [],
   "source": [
    "#gn=GaussianNB()\n",
    "#bn=BernoulliNB()\n",
    "#mn=MultinomialNB()"
   ]
  },
  {
   "cell_type": "code",
   "execution_count": 223,
   "id": "88404253",
   "metadata": {},
   "outputs": [],
   "source": [
    "#gn.fit(X_train,Y_train)\n",
    "#gn.score(X_test,Y_test)"
   ]
  },
  {
   "cell_type": "code",
   "execution_count": 224,
   "id": "eacd0618",
   "metadata": {},
   "outputs": [],
   "source": [
    "#bn.fit(X_train,Y_train)\n",
    "#bn.score(X_test,Y_test)"
   ]
  },
  {
   "cell_type": "code",
   "execution_count": 225,
   "id": "763da9d5",
   "metadata": {},
   "outputs": [],
   "source": [
    "#mn.fit(X_train,Y_train)\n",
    "#mn.score(X_test,Y_test)"
   ]
  },
  {
   "cell_type": "code",
   "execution_count": 226,
   "id": "f56aebc3",
   "metadata": {},
   "outputs": [],
   "source": [
    "#gn.predict(X_test)"
   ]
  },
  {
   "cell_type": "code",
   "execution_count": 185,
   "id": "cd0fd3ac",
   "metadata": {},
   "outputs": [],
   "source": [
    "# only few model gives accuracy of 94..so i choose logistic regression model with best accuracy of 100"
   ]
  },
  {
   "cell_type": "code",
   "execution_count": 245,
   "id": "b5648d19",
   "metadata": {},
   "outputs": [],
   "source": [
    "a=lgr.predict(X_test)"
   ]
  },
  {
   "cell_type": "code",
   "execution_count": 246,
   "id": "6dd38bdb",
   "metadata": {},
   "outputs": [
    {
     "data": {
      "text/plain": [
       "array([1, 0, 0, 0, 0, 1, 0, 0, 0, 0, 0, 0, 1, 0, 0, 0, 0, 1], dtype=int64)"
      ]
     },
     "execution_count": 246,
     "metadata": {},
     "output_type": "execute_result"
    }
   ],
   "source": [
    "a"
   ]
  },
  {
   "cell_type": "code",
   "execution_count": 248,
   "id": "3952d1cf",
   "metadata": {},
   "outputs": [],
   "source": [
    "from sklearn.metrics import mean_squared_error"
   ]
  },
  {
   "cell_type": "code",
   "execution_count": 251,
   "id": "f106a589",
   "metadata": {},
   "outputs": [],
   "source": [
    "mse=mean_squared_error(Y_test,a)"
   ]
  },
  {
   "cell_type": "code",
   "execution_count": 252,
   "id": "966ce227",
   "metadata": {},
   "outputs": [
    {
     "data": {
      "text/plain": [
       "0.0"
      ]
     },
     "execution_count": 252,
     "metadata": {},
     "output_type": "execute_result"
    }
   ],
   "source": [
    "mse"
   ]
  },
  {
   "cell_type": "code",
   "execution_count": 254,
   "id": "eabf99f6",
   "metadata": {},
   "outputs": [],
   "source": [
    "rmse=nm.sqrt(mse)"
   ]
  },
  {
   "cell_type": "code",
   "execution_count": 255,
   "id": "db6f1d9b",
   "metadata": {},
   "outputs": [
    {
     "data": {
      "text/plain": [
       "0.0"
      ]
     },
     "execution_count": 255,
     "metadata": {},
     "output_type": "execute_result"
    }
   ],
   "source": [
    "rmse"
   ]
  },
  {
   "cell_type": "code",
   "execution_count": 256,
   "id": "a4f6d4c1",
   "metadata": {},
   "outputs": [],
   "source": [
    "#now save the model"
   ]
  },
  {
   "cell_type": "code",
   "execution_count": 257,
   "id": "50f21d5e",
   "metadata": {},
   "outputs": [],
   "source": [
    "import pickle"
   ]
  },
  {
   "cell_type": "code",
   "execution_count": 258,
   "id": "cb14fd21",
   "metadata": {},
   "outputs": [],
   "source": [
    "pickle.dump(lgr,open(\"model_fraud_ml\",\"wb\"))"
   ]
  },
  {
   "cell_type": "code",
   "execution_count": null,
   "id": "5dab9a1a",
   "metadata": {},
   "outputs": [],
   "source": []
  }
 ],
 "metadata": {
  "kernelspec": {
   "display_name": "Python 3 (ipykernel)",
   "language": "python",
   "name": "python3"
  },
  "language_info": {
   "codemirror_mode": {
    "name": "ipython",
    "version": 3
   },
   "file_extension": ".py",
   "mimetype": "text/x-python",
   "name": "python",
   "nbconvert_exporter": "python",
   "pygments_lexer": "ipython3",
   "version": "3.11.4"
  }
 },
 "nbformat": 4,
 "nbformat_minor": 5
}
